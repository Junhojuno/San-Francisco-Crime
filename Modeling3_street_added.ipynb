{
 "cells": [
  {
   "cell_type": "code",
   "execution_count": 1,
   "metadata": {},
   "outputs": [
    {
     "data": {
      "text/html": [
       "<div>\n",
       "<style scoped>\n",
       "    .dataframe tbody tr th:only-of-type {\n",
       "        vertical-align: middle;\n",
       "    }\n",
       "\n",
       "    .dataframe tbody tr th {\n",
       "        vertical-align: top;\n",
       "    }\n",
       "\n",
       "    .dataframe thead th {\n",
       "        text-align: right;\n",
       "    }\n",
       "</style>\n",
       "<table border=\"1\" class=\"dataframe\">\n",
       "  <thead>\n",
       "    <tr style=\"text-align: right;\">\n",
       "      <th></th>\n",
       "      <th>Dates</th>\n",
       "      <th>Category</th>\n",
       "      <th>DayOfWeek</th>\n",
       "      <th>PdDistrict</th>\n",
       "      <th>Address</th>\n",
       "      <th>X</th>\n",
       "      <th>Y</th>\n",
       "      <th>year</th>\n",
       "      <th>month</th>\n",
       "      <th>hour</th>\n",
       "    </tr>\n",
       "  </thead>\n",
       "  <tbody>\n",
       "    <tr>\n",
       "      <th>878044</th>\n",
       "      <td>2003-01-06 00:15:00</td>\n",
       "      <td>ROBBERY</td>\n",
       "      <td>Monday</td>\n",
       "      <td>TARAVAL</td>\n",
       "      <td>FARALLONES ST / CAPITOL AV</td>\n",
       "      <td>-122.459033</td>\n",
       "      <td>37.714056</td>\n",
       "      <td>2003</td>\n",
       "      <td>1</td>\n",
       "      <td>0</td>\n",
       "    </tr>\n",
       "    <tr>\n",
       "      <th>878045</th>\n",
       "      <td>2003-01-06 00:01:00</td>\n",
       "      <td>LARCENY/THEFT</td>\n",
       "      <td>Monday</td>\n",
       "      <td>INGLESIDE</td>\n",
       "      <td>600 Block of EDNA ST</td>\n",
       "      <td>-122.447364</td>\n",
       "      <td>37.731948</td>\n",
       "      <td>2003</td>\n",
       "      <td>1</td>\n",
       "      <td>0</td>\n",
       "    </tr>\n",
       "    <tr>\n",
       "      <th>878046</th>\n",
       "      <td>2003-01-06 00:01:00</td>\n",
       "      <td>LARCENY/THEFT</td>\n",
       "      <td>Monday</td>\n",
       "      <td>SOUTHERN</td>\n",
       "      <td>5TH ST / FOLSOM ST</td>\n",
       "      <td>-122.403390</td>\n",
       "      <td>37.780266</td>\n",
       "      <td>2003</td>\n",
       "      <td>1</td>\n",
       "      <td>0</td>\n",
       "    </tr>\n",
       "    <tr>\n",
       "      <th>878047</th>\n",
       "      <td>2003-01-06 00:01:00</td>\n",
       "      <td>VANDALISM</td>\n",
       "      <td>Monday</td>\n",
       "      <td>SOUTHERN</td>\n",
       "      <td>TOWNSEND ST / 2ND ST</td>\n",
       "      <td>-122.390531</td>\n",
       "      <td>37.780607</td>\n",
       "      <td>2003</td>\n",
       "      <td>1</td>\n",
       "      <td>0</td>\n",
       "    </tr>\n",
       "    <tr>\n",
       "      <th>878048</th>\n",
       "      <td>2003-01-06 00:01:00</td>\n",
       "      <td>FORGERY/COUNTERFEITING</td>\n",
       "      <td>Monday</td>\n",
       "      <td>BAYVIEW</td>\n",
       "      <td>1800 Block of NEWCOMB AV</td>\n",
       "      <td>-122.394926</td>\n",
       "      <td>37.738212</td>\n",
       "      <td>2003</td>\n",
       "      <td>1</td>\n",
       "      <td>0</td>\n",
       "    </tr>\n",
       "  </tbody>\n",
       "</table>\n",
       "</div>"
      ],
      "text/plain": [
       "                     Dates                Category DayOfWeek PdDistrict  \\\n",
       "878044 2003-01-06 00:15:00                 ROBBERY    Monday    TARAVAL   \n",
       "878045 2003-01-06 00:01:00           LARCENY/THEFT    Monday  INGLESIDE   \n",
       "878046 2003-01-06 00:01:00           LARCENY/THEFT    Monday   SOUTHERN   \n",
       "878047 2003-01-06 00:01:00               VANDALISM    Monday   SOUTHERN   \n",
       "878048 2003-01-06 00:01:00  FORGERY/COUNTERFEITING    Monday    BAYVIEW   \n",
       "\n",
       "                           Address           X          Y  year  month  hour  \n",
       "878044  FARALLONES ST / CAPITOL AV -122.459033  37.714056  2003      1     0  \n",
       "878045        600 Block of EDNA ST -122.447364  37.731948  2003      1     0  \n",
       "878046          5TH ST / FOLSOM ST -122.403390  37.780266  2003      1     0  \n",
       "878047        TOWNSEND ST / 2ND ST -122.390531  37.780607  2003      1     0  \n",
       "878048    1800 Block of NEWCOMB AV -122.394926  37.738212  2003      1     0  "
      ]
     },
     "execution_count": 1,
     "metadata": {},
     "output_type": "execute_result"
    }
   ],
   "source": [
    "df_train = pd.read_csv(\"train.csv\", parse_dates=['Dates'])\n",
    "df_train.drop(columns=['Descript','Resolution'],inplace=True)\n",
    "df_train['year'] = df_train['Dates'].map(lambda x: x.year)\n",
    "df_train['month'] = df_train['Dates'].map(lambda x: x.month)\n",
    "df_train['hour'] = df_train['Dates'].map(lambda x: x.hour)"
   ]
  },
  {
   "cell_type": "code",
   "execution_count": 2,
   "metadata": {},
   "outputs": [],
   "source": [
    "def street_addr(x):\n",
    "    street=x.split(' ')\n",
    "    return (' '.join(street[-2:]))"
   ]
  },
  {
   "cell_type": "code",
   "execution_count": 3,
   "metadata": {},
   "outputs": [
    {
     "data": {
      "text/plain": [
       "878044    CAPITOL AV\n",
       "878045       EDNA ST\n",
       "878046     FOLSOM ST\n",
       "878047        2ND ST\n",
       "878048    NEWCOMB AV\n",
       "Name: addr, dtype: object"
      ]
     },
     "execution_count": 3,
     "metadata": {},
     "output_type": "execute_result"
    }
   ],
   "source": [
    "df_train['addr']=df_train['Address'].apply(lambda x:street_addr(x))\n",
    "df_train['addr'].tail()"
   ]
  },
  {
   "cell_type": "code",
   "execution_count": 4,
   "metadata": {},
   "outputs": [
    {
     "data": {
      "text/plain": [
       "(array(['LAGUNA ST', 'GREENWICH ST', 'LOMBARD ST', ..., 'LAKES DR',\n",
       "        'WEBB PL', 'ZENO PL'], dtype=object), 2040)"
      ]
     },
     "execution_count": 4,
     "metadata": {},
     "output_type": "execute_result"
    }
   ],
   "source": [
    "df_train['addr'].unique(),len(df_train['addr'].unique()) "
   ]
  },
  {
   "cell_type": "code",
   "execution_count": 5,
   "metadata": {},
   "outputs": [],
   "source": [
    "df_train['event'] = 1"
   ]
  },
  {
   "cell_type": "code",
   "execution_count": 6,
   "metadata": {},
   "outputs": [
    {
     "data": {
      "text/html": [
       "<div>\n",
       "<style scoped>\n",
       "    .dataframe tbody tr th:only-of-type {\n",
       "        vertical-align: middle;\n",
       "    }\n",
       "\n",
       "    .dataframe tbody tr th {\n",
       "        vertical-align: top;\n",
       "    }\n",
       "\n",
       "    .dataframe thead th {\n",
       "        text-align: right;\n",
       "    }\n",
       "</style>\n",
       "<table border=\"1\" class=\"dataframe\">\n",
       "  <thead>\n",
       "    <tr style=\"text-align: right;\">\n",
       "      <th></th>\n",
       "      <th>Dates</th>\n",
       "      <th>Category</th>\n",
       "      <th>DayOfWeek</th>\n",
       "      <th>PdDistrict</th>\n",
       "      <th>Address</th>\n",
       "      <th>X</th>\n",
       "      <th>Y</th>\n",
       "      <th>year</th>\n",
       "      <th>month</th>\n",
       "      <th>hour</th>\n",
       "      <th>addr</th>\n",
       "      <th>event</th>\n",
       "    </tr>\n",
       "  </thead>\n",
       "  <tbody>\n",
       "    <tr>\n",
       "      <th>878044</th>\n",
       "      <td>2003-01-06 00:15:00</td>\n",
       "      <td>ROBBERY</td>\n",
       "      <td>Monday</td>\n",
       "      <td>TARAVAL</td>\n",
       "      <td>FARALLONES ST / CAPITOL AV</td>\n",
       "      <td>-122.459033</td>\n",
       "      <td>37.714056</td>\n",
       "      <td>2003</td>\n",
       "      <td>1</td>\n",
       "      <td>0</td>\n",
       "      <td>CAPITOL AV</td>\n",
       "      <td>1</td>\n",
       "    </tr>\n",
       "    <tr>\n",
       "      <th>878045</th>\n",
       "      <td>2003-01-06 00:01:00</td>\n",
       "      <td>LARCENY/THEFT</td>\n",
       "      <td>Monday</td>\n",
       "      <td>INGLESIDE</td>\n",
       "      <td>600 Block of EDNA ST</td>\n",
       "      <td>-122.447364</td>\n",
       "      <td>37.731948</td>\n",
       "      <td>2003</td>\n",
       "      <td>1</td>\n",
       "      <td>0</td>\n",
       "      <td>EDNA ST</td>\n",
       "      <td>1</td>\n",
       "    </tr>\n",
       "    <tr>\n",
       "      <th>878046</th>\n",
       "      <td>2003-01-06 00:01:00</td>\n",
       "      <td>LARCENY/THEFT</td>\n",
       "      <td>Monday</td>\n",
       "      <td>SOUTHERN</td>\n",
       "      <td>5TH ST / FOLSOM ST</td>\n",
       "      <td>-122.403390</td>\n",
       "      <td>37.780266</td>\n",
       "      <td>2003</td>\n",
       "      <td>1</td>\n",
       "      <td>0</td>\n",
       "      <td>FOLSOM ST</td>\n",
       "      <td>1</td>\n",
       "    </tr>\n",
       "    <tr>\n",
       "      <th>878047</th>\n",
       "      <td>2003-01-06 00:01:00</td>\n",
       "      <td>VANDALISM</td>\n",
       "      <td>Monday</td>\n",
       "      <td>SOUTHERN</td>\n",
       "      <td>TOWNSEND ST / 2ND ST</td>\n",
       "      <td>-122.390531</td>\n",
       "      <td>37.780607</td>\n",
       "      <td>2003</td>\n",
       "      <td>1</td>\n",
       "      <td>0</td>\n",
       "      <td>2ND ST</td>\n",
       "      <td>1</td>\n",
       "    </tr>\n",
       "    <tr>\n",
       "      <th>878048</th>\n",
       "      <td>2003-01-06 00:01:00</td>\n",
       "      <td>FORGERY/COUNTERFEITING</td>\n",
       "      <td>Monday</td>\n",
       "      <td>BAYVIEW</td>\n",
       "      <td>1800 Block of NEWCOMB AV</td>\n",
       "      <td>-122.394926</td>\n",
       "      <td>37.738212</td>\n",
       "      <td>2003</td>\n",
       "      <td>1</td>\n",
       "      <td>0</td>\n",
       "      <td>NEWCOMB AV</td>\n",
       "      <td>1</td>\n",
       "    </tr>\n",
       "  </tbody>\n",
       "</table>\n",
       "</div>"
      ],
      "text/plain": [
       "                     Dates                Category DayOfWeek PdDistrict  \\\n",
       "878044 2003-01-06 00:15:00                 ROBBERY    Monday    TARAVAL   \n",
       "878045 2003-01-06 00:01:00           LARCENY/THEFT    Monday  INGLESIDE   \n",
       "878046 2003-01-06 00:01:00           LARCENY/THEFT    Monday   SOUTHERN   \n",
       "878047 2003-01-06 00:01:00               VANDALISM    Monday   SOUTHERN   \n",
       "878048 2003-01-06 00:01:00  FORGERY/COUNTERFEITING    Monday    BAYVIEW   \n",
       "\n",
       "                           Address           X          Y  year  month  hour  \\\n",
       "878044  FARALLONES ST / CAPITOL AV -122.459033  37.714056  2003      1     0   \n",
       "878045        600 Block of EDNA ST -122.447364  37.731948  2003      1     0   \n",
       "878046          5TH ST / FOLSOM ST -122.403390  37.780266  2003      1     0   \n",
       "878047        TOWNSEND ST / 2ND ST -122.390531  37.780607  2003      1     0   \n",
       "878048    1800 Block of NEWCOMB AV -122.394926  37.738212  2003      1     0   \n",
       "\n",
       "              addr  event  \n",
       "878044  CAPITOL AV      1  \n",
       "878045     EDNA ST      1  \n",
       "878046   FOLSOM ST      1  \n",
       "878047      2ND ST      1  \n",
       "878048  NEWCOMB AV      1  "
      ]
     },
     "execution_count": 6,
     "metadata": {},
     "output_type": "execute_result"
    }
   ],
   "source": [
    "df_train.tail()"
   ]
  },
  {
   "cell_type": "code",
   "execution_count": null,
   "metadata": {},
   "outputs": [],
   "source": []
  },
  {
   "cell_type": "code",
   "execution_count": null,
   "metadata": {},
   "outputs": [],
   "source": []
  },
  {
   "cell_type": "code",
   "execution_count": null,
   "metadata": {},
   "outputs": [],
   "source": []
  },
  {
   "cell_type": "code",
   "execution_count": null,
   "metadata": {},
   "outputs": [],
   "source": []
  },
  {
   "cell_type": "code",
   "execution_count": null,
   "metadata": {},
   "outputs": [],
   "source": []
  },
  {
   "cell_type": "code",
   "execution_count": null,
   "metadata": {},
   "outputs": [],
   "source": []
  },
  {
   "cell_type": "code",
   "execution_count": null,
   "metadata": {},
   "outputs": [],
   "source": []
  },
  {
   "cell_type": "code",
   "execution_count": null,
   "metadata": {},
   "outputs": [],
   "source": []
  }
 ],
 "metadata": {
  "kernelspec": {
   "display_name": "Python 3",
   "language": "python",
   "name": "python3"
  },
  "language_info": {
   "codemirror_mode": {
    "name": "ipython",
    "version": 3
   },
   "file_extension": ".py",
   "mimetype": "text/x-python",
   "name": "python",
   "nbconvert_exporter": "python",
   "pygments_lexer": "ipython3",
   "version": "3.6.6"
  }
 },
 "nbformat": 4,
 "nbformat_minor": 2
}
